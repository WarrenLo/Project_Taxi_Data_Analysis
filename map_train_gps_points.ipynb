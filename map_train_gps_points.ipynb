{
 "cells": [
  {
   "cell_type": "markdown",
   "metadata": {},
   "source": [
    "# Python 地圖視覺化 - 使用 Folium\n",
    "\n",
    "* 請先安裝 Folium package:\n",
    "       \n",
    "       pip install folium\n",
    "    \n",
    "* folium 預設使用 Open street Map; 也可支援 Stamen Toner/ Stamen Terrain/ Mapbox(Mapbox須申請並匯入API key)"
   ]
  },
  {
   "cell_type": "code",
   "execution_count": null,
   "metadata": {},
   "outputs": [],
   "source": [
    "#coding=utc-8\n",
    "import folium\n",
    "import numpy as np\n",
    "import matplotlib.pyplot as plt\n",
    "import pandas as pd\n",
    "import matplotlib.pyplot as plt\n",
    "\n",
    "# 讀取csv file\n",
    "file_number = 10\n",
    "file_number_str = str(file_number)\n",
    "file = \"train_gps_points_zone_\" + file_number_str + \".csv\"\n",
    "train_gps_points_zone = pd.read_csv(file)\n",
    "zones = pd.read_csv(\"zones.csv\")\n",
    "\n",
    "# 地圖中心點經緯度\n",
    "left = zones[zones.columns[1]][0]\n",
    "right = zones[zones.columns[3]][24]\n",
    "top = zones[zones.columns[2]][0]\n",
    "bottom = zones[zones.columns[4]][24]\n",
    "Longitude = (left+right)/2\n",
    "Latitude = (top + bottom)/2\n",
    "\n",
    "# 建立地圖\n",
    "# folium預設使用 Open street Map\n",
    "# 也可支援 Stamen Toner/ Stamen Terrain\n",
    "# Syntax: tiles='Stamen Terrain'\n",
    "\n",
    "fmap = folium.Map(location = [Latitude, Longitude],zoom_start = 14)\n",
    "\n",
    "# 標記上車地點經緯度\n",
    "# range(請自行設定)\n",
    "#columns, rows = train_gps_points_zone_1.shape\n",
    "#for n in range(0,columns):\n",
    "\n",
    "for n in range(0,2000):\n",
    "    gps_x = train_gps_points_zone[train_gps_points_zone.columns[1]][n]\n",
    "    gps_y = train_gps_points_zone[train_gps_points_zone.columns[2]][n]\n",
    "    points = [gps_y, gps_x]\n",
    "    fmap.add_child(folium.Circle(location=points, color = \"red\", radius = 1, fill = True, fill_opacity = 1))\n",
    "                             \n",
    "fmap"
   ]
  },
  {
   "cell_type": "code",
   "execution_count": null,
   "metadata": {},
   "outputs": [],
   "source": []
  }
 ],
 "metadata": {
  "kernelspec": {
   "display_name": "Python 3",
   "language": "python",
   "name": "python3"
  },
  "language_info": {
   "codemirror_mode": {
    "name": "ipython",
    "version": 3
   },
   "file_extension": ".py",
   "mimetype": "text/x-python",
   "name": "python",
   "nbconvert_exporter": "python",
   "pygments_lexer": "ipython3",
   "version": "3.6.5"
  }
 },
 "nbformat": 4,
 "nbformat_minor": 2
}
